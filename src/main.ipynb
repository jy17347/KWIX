{
 "cells": [
  {
   "cell_type": "code",
   "execution_count": 1,
   "metadata": {},
   "outputs": [],
   "source": [
    "import numpy as np\n",
    "import time, os\n",
    "import pandas as pd\n",
    "\n",
    "trainset_dir = \"./dataset/log_TH_KAL_train\"\n",
    "testset_dir = \"./dataset/log_TH_KAL_test\"\n",
    "actions = os.listdir(trainset_dir)\n",
    "\n",
    "seq_length = 32                                  #윈도우 사이즈\n",
    "created_time = int(time.time())                 #행동 녹화 시간\n",
    "\n",
    "os.makedirs('created_dataset', exist_ok=True)"
   ]
  },
  {
   "cell_type": "code",
   "execution_count": 2,
   "metadata": {},
   "outputs": [
    {
     "name": "stdout",
     "output_type": "stream",
     "text": [
      "4273\n",
      "4273\n"
     ]
    }
   ],
   "source": [
    "data = []\n",
    "label = []\n",
    "\n",
    "for idx, action in enumerate(actions):\n",
    "\n",
    "    action_dir = trainset_dir + '/' + actions[idx]\n",
    "\n",
    "    for i in os.listdir(action_dir):\n",
    "        dataset = pd.read_csv(f\"{action_dir}/{i}\") \n",
    "        np_dataset = dataset.to_numpy()[:,0:2]\n",
    "        data_len = np_dataset.shape[0]\n",
    "\n",
    "\n",
    "        num_data = data_len // seq_length\n",
    "        spare = data_len % seq_length\n",
    "        np_dataset = np_dataset[:(data_len-spare)]\n",
    "\n",
    "\n",
    "        for j in range(num_data):\n",
    "            sequence = np_dataset[j::num_data]\n",
    "            # print(sequence.shape)\n",
    "            data.append(sequence)\n",
    "            label.append(action)\n",
    "        # print(data_len, num_data, spare)\n",
    "\n",
    "action_list = set(label)\n",
    "            \n",
    "print(len(data))\n",
    "print(len(label))"
   ]
  },
  {
   "cell_type": "code",
   "execution_count": 3,
   "metadata": {},
   "outputs": [],
   "source": [
    "# data.reshape((4273*32, 2))"
   ]
  },
  {
   "cell_type": "code",
   "execution_count": 4,
   "metadata": {},
   "outputs": [],
   "source": [
    "# from sklearn.preprocessing import StandardScaler\n",
    "\n",
    "# # scaler = StandardScaler()\n",
    "\n",
    "# scaler.fit(data)\n",
    "# data = scaler.transform(data)\n",
    "# data.shape"
   ]
  },
  {
   "cell_type": "code",
   "execution_count": 5,
   "metadata": {},
   "outputs": [],
   "source": [
    "dictionary = {string : i for i,string in enumerate(action_list)}"
   ]
  },
  {
   "cell_type": "code",
   "execution_count": 6,
   "metadata": {},
   "outputs": [],
   "source": [
    "new_label = []\n",
    "for l in label:\n",
    "    new_label.append(dictionary[l])\n"
   ]
  },
  {
   "cell_type": "code",
   "execution_count": 7,
   "metadata": {},
   "outputs": [],
   "source": [
    "import numpy as np\n",
    "import os\n",
    "from tensorflow.keras.utils import to_categorical\n",
    "from sklearn.model_selection import train_test_split\n",
    "from tensorflow.keras.models import Sequential\n",
    "from tensorflow.keras.layers import LSTM, Dense\n",
    "from tensorflow.keras.callbacks import ModelCheckpoint, ReduceLROnPlateau"
   ]
  },
  {
   "cell_type": "code",
   "execution_count": 8,
   "metadata": {},
   "outputs": [],
   "source": [
    "new_label = to_categorical(new_label,12)\n",
    "new_label\n",
    "data = np.array(data)"
   ]
  },
  {
   "cell_type": "code",
   "execution_count": 9,
   "metadata": {},
   "outputs": [
    {
     "data": {
      "text/plain": [
       "array([[0., 0., 0., ..., 0., 0., 0.],\n",
       "       [0., 0., 0., ..., 0., 0., 0.],\n",
       "       [0., 0., 0., ..., 0., 0., 0.],\n",
       "       ...,\n",
       "       [0., 0., 0., ..., 0., 1., 0.],\n",
       "       [0., 0., 0., ..., 0., 1., 0.],\n",
       "       [0., 0., 0., ..., 0., 1., 0.]], dtype=float32)"
      ]
     },
     "execution_count": 9,
     "metadata": {},
     "output_type": "execute_result"
    }
   ],
   "source": [
    "new_label"
   ]
  },
  {
   "cell_type": "code",
   "execution_count": 10,
   "metadata": {},
   "outputs": [],
   "source": [
    "model = Sequential([\n",
    "    LSTM(64, activation='tanh',return_sequences=True, input_shape=(32, 2)),\n",
    "    LSTM(128, activation='tanh',return_sequences=True,),\n",
    "    LSTM(64, activation='tanh'),\n",
    "    Dense(32, activation='tanh'),\n",
    "    Dense(16, activation='relu'),\n",
    "    Dense(12, activation='softmax')    \n",
    "])"
   ]
  },
  {
   "cell_type": "code",
   "execution_count": 11,
   "metadata": {},
   "outputs": [],
   "source": [
    "from sklearn.model_selection import train_test_split\n",
    "\n",
    "data, data_val, new_label, new_label_val = train_test_split(data, new_label, test_size=0.1, random_state=24)"
   ]
  },
  {
   "cell_type": "code",
   "execution_count": 13,
   "metadata": {},
   "outputs": [
    {
     "data": {
      "text/plain": [
       "(3845, 32, 2)"
      ]
     },
     "execution_count": 13,
     "metadata": {},
     "output_type": "execute_result"
    }
   ],
   "source": [
    "data.shape"
   ]
  },
  {
   "cell_type": "code",
   "execution_count": 15,
   "metadata": {},
   "outputs": [
    {
     "data": {
      "text/plain": [
       "array([2.34280462, 0.99336296])"
      ]
     },
     "execution_count": 15,
     "metadata": {},
     "output_type": "execute_result"
    }
   ],
   "source": [
    "data[0,0]"
   ]
  },
  {
   "cell_type": "code",
   "execution_count": 14,
   "metadata": {},
   "outputs": [
    {
     "data": {
      "text/plain": [
       "(3845, 12)"
      ]
     },
     "execution_count": 14,
     "metadata": {},
     "output_type": "execute_result"
    }
   ],
   "source": [
    "new_label.shape"
   ]
  },
  {
   "cell_type": "code",
   "execution_count": 12,
   "metadata": {},
   "outputs": [
    {
     "name": "stdout",
     "output_type": "stream",
     "text": [
      "Model: \"sequential\"\n",
      "_________________________________________________________________\n",
      " Layer (type)                Output Shape              Param #   \n",
      "=================================================================\n",
      " lstm (LSTM)                 (None, 32, 64)            17152     \n",
      "                                                                 \n",
      " lstm_1 (LSTM)               (None, 32, 128)           98816     \n",
      "                                                                 \n",
      " lstm_2 (LSTM)               (None, 64)                49408     \n",
      "                                                                 \n",
      " dense (Dense)               (None, 32)                2080      \n",
      "                                                                 \n",
      " dense_1 (Dense)             (None, 16)                528       \n",
      "                                                                 \n",
      " dense_2 (Dense)             (None, 12)                204       \n",
      "                                                                 \n",
      "=================================================================\n",
      "Total params: 168,188\n",
      "Trainable params: 168,188\n",
      "Non-trainable params: 0\n",
      "_________________________________________________________________\n",
      "Epoch 1/200\n",
      "117/121 [============================>.] - ETA: 0s - loss: 2.3904 - acc: 0.1552\n",
      "Epoch 00001: val_loss improved from inf to 2.32975, saving model to models\\model.h5\n",
      "121/121 [==============================] - 21s 13ms/step - loss: 2.3876 - acc: 0.1558 - val_loss: 2.3298 - val_acc: 0.1472 - lr: 0.0010\n",
      "Epoch 2/200\n",
      "116/121 [===========================>..] - ETA: 0s - loss: 1.9585 - acc: 0.3300\n",
      "Epoch 00002: val_loss improved from 2.32975 to 1.51205, saving model to models\\model.h5\n",
      "121/121 [==============================] - 1s 9ms/step - loss: 1.9462 - acc: 0.3326 - val_loss: 1.5121 - val_acc: 0.5537 - lr: 0.0010\n",
      "Epoch 3/200\n",
      "118/121 [============================>.] - ETA: 0s - loss: 1.3221 - acc: 0.5654\n",
      "Epoch 00003: val_loss improved from 1.51205 to 1.19267, saving model to models\\model.h5\n",
      "121/121 [==============================] - 1s 9ms/step - loss: 1.3163 - acc: 0.5672 - val_loss: 1.1927 - val_acc: 0.6285 - lr: 0.0010\n",
      "Epoch 4/200\n",
      "120/121 [============================>.] - ETA: 0s - loss: 0.9273 - acc: 0.6773\n",
      "Epoch 00004: val_loss improved from 1.19267 to 0.85015, saving model to models\\model.h5\n",
      "121/121 [==============================] - 1s 9ms/step - loss: 0.9285 - acc: 0.6770 - val_loss: 0.8502 - val_acc: 0.6939 - lr: 0.0010\n",
      "Epoch 5/200\n",
      "119/121 [============================>.] - ETA: 0s - loss: 0.7588 - acc: 0.7248\n",
      "Epoch 00005: val_loss did not improve from 0.85015\n",
      "121/121 [==============================] - 1s 9ms/step - loss: 0.7580 - acc: 0.7246 - val_loss: 0.8900 - val_acc: 0.6776 - lr: 0.0010\n",
      "Epoch 6/200\n",
      "116/121 [===========================>..] - ETA: 0s - loss: 0.6989 - acc: 0.7470\n",
      "Epoch 00006: val_loss improved from 0.85015 to 0.58802, saving model to models\\model.h5\n",
      "121/121 [==============================] - 1s 9ms/step - loss: 0.6967 - acc: 0.7469 - val_loss: 0.5880 - val_acc: 0.7780 - lr: 0.0010\n",
      "Epoch 7/200\n",
      "115/121 [===========================>..] - ETA: 0s - loss: 0.6277 - acc: 0.7736\n",
      "Epoch 00007: val_loss improved from 0.58802 to 0.51582, saving model to models\\model.h5\n",
      "121/121 [==============================] - 1s 9ms/step - loss: 0.6250 - acc: 0.7756 - val_loss: 0.5158 - val_acc: 0.8014 - lr: 0.0010\n",
      "Epoch 8/200\n",
      "115/121 [===========================>..] - ETA: 0s - loss: 0.5464 - acc: 0.7992\n",
      "Epoch 00008: val_loss did not improve from 0.51582\n",
      "121/121 [==============================] - 1s 9ms/step - loss: 0.5531 - acc: 0.7966 - val_loss: 0.6434 - val_acc: 0.7593 - lr: 0.0010\n",
      "Epoch 9/200\n",
      "116/121 [===========================>..] - ETA: 0s - loss: 0.4919 - acc: 0.8244\n",
      "Epoch 00009: val_loss improved from 0.51582 to 0.41870, saving model to models\\model.h5\n",
      "121/121 [==============================] - 1s 9ms/step - loss: 0.4914 - acc: 0.8239 - val_loss: 0.4187 - val_acc: 0.8411 - lr: 0.0010\n",
      "Epoch 10/200\n",
      "120/121 [============================>.] - ETA: 0s - loss: 0.4575 - acc: 0.8247\n",
      "Epoch 00010: val_loss improved from 0.41870 to 0.37682, saving model to models\\model.h5\n",
      "121/121 [==============================] - 1s 9ms/step - loss: 0.4575 - acc: 0.8247 - val_loss: 0.3768 - val_acc: 0.8621 - lr: 0.0010\n",
      "Epoch 11/200\n",
      "119/121 [============================>.] - ETA: 0s - loss: 0.4618 - acc: 0.8275\n",
      "Epoch 00011: val_loss did not improve from 0.37682\n",
      "121/121 [==============================] - 1s 9ms/step - loss: 0.4601 - acc: 0.8286 - val_loss: 0.3853 - val_acc: 0.8575 - lr: 0.0010\n",
      "Epoch 12/200\n",
      "120/121 [============================>.] - ETA: 0s - loss: 0.4240 - acc: 0.8474\n",
      "Epoch 00012: val_loss improved from 0.37682 to 0.36277, saving model to models\\model.h5\n",
      "121/121 [==============================] - 1s 9ms/step - loss: 0.4240 - acc: 0.8471 - val_loss: 0.3628 - val_acc: 0.8528 - lr: 0.0010\n",
      "Epoch 13/200\n",
      "121/121 [==============================] - ETA: 0s - loss: 0.3555 - acc: 0.8661\n",
      "Epoch 00013: val_loss improved from 0.36277 to 0.30097, saving model to models\\model.h5\n",
      "121/121 [==============================] - 1s 9ms/step - loss: 0.3555 - acc: 0.8661 - val_loss: 0.3010 - val_acc: 0.8902 - lr: 0.0010\n",
      "Epoch 14/200\n",
      "119/121 [============================>.] - ETA: 0s - loss: 0.3552 - acc: 0.8687\n",
      "Epoch 00014: val_loss did not improve from 0.30097\n",
      "121/121 [==============================] - 1s 9ms/step - loss: 0.3545 - acc: 0.8687 - val_loss: 0.3336 - val_acc: 0.8692 - lr: 0.0010\n",
      "Epoch 15/200\n",
      "118/121 [============================>.] - ETA: 0s - loss: 0.2849 - acc: 0.8904\n",
      "Epoch 00015: val_loss improved from 0.30097 to 0.29084, saving model to models\\model.h5\n",
      "121/121 [==============================] - 1s 9ms/step - loss: 0.2831 - acc: 0.8915 - val_loss: 0.2908 - val_acc: 0.8902 - lr: 0.0010\n",
      "Epoch 16/200\n",
      "120/121 [============================>.] - ETA: 0s - loss: 0.2846 - acc: 0.8938\n",
      "Epoch 00016: val_loss did not improve from 0.29084\n",
      "121/121 [==============================] - 1s 9ms/step - loss: 0.2848 - acc: 0.8936 - val_loss: 0.3497 - val_acc: 0.8832 - lr: 0.0010\n",
      "Epoch 17/200\n",
      "115/121 [===========================>..] - ETA: 0s - loss: 0.2984 - acc: 0.8908\n",
      "Epoch 00017: val_loss improved from 0.29084 to 0.23207, saving model to models\\model.h5\n",
      "121/121 [==============================] - 1s 9ms/step - loss: 0.2979 - acc: 0.8910 - val_loss: 0.2321 - val_acc: 0.9112 - lr: 0.0010\n",
      "Epoch 18/200\n",
      "119/121 [============================>.] - ETA: 0s - loss: 0.2502 - acc: 0.9081\n",
      "Epoch 00018: val_loss improved from 0.23207 to 0.21516, saving model to models\\model.h5\n",
      "121/121 [==============================] - 1s 9ms/step - loss: 0.2487 - acc: 0.9085 - val_loss: 0.2152 - val_acc: 0.9229 - lr: 0.0010\n",
      "Epoch 19/200\n",
      "117/121 [============================>.] - ETA: 0s - loss: 0.2251 - acc: 0.9223\n",
      "Epoch 00019: val_loss improved from 0.21516 to 0.16521, saving model to models\\model.h5\n",
      "121/121 [==============================] - 1s 9ms/step - loss: 0.2250 - acc: 0.9215 - val_loss: 0.1652 - val_acc: 0.9393 - lr: 0.0010\n",
      "Epoch 20/200\n",
      "118/121 [============================>.] - ETA: 0s - loss: 0.2407 - acc: 0.9179\n",
      "Epoch 00020: val_loss did not improve from 0.16521\n",
      "121/121 [==============================] - 1s 9ms/step - loss: 0.2393 - acc: 0.9183 - val_loss: 0.2146 - val_acc: 0.9136 - lr: 0.0010\n",
      "Epoch 21/200\n",
      "116/121 [===========================>..] - ETA: 0s - loss: 0.1919 - acc: 0.9305\n",
      "Epoch 00021: val_loss did not improve from 0.16521\n",
      "121/121 [==============================] - 1s 9ms/step - loss: 0.1941 - acc: 0.9295 - val_loss: 0.1977 - val_acc: 0.9159 - lr: 0.0010\n",
      "Epoch 22/200\n",
      "116/121 [===========================>..] - ETA: 0s - loss: 0.2196 - acc: 0.9197\n",
      "Epoch 00022: val_loss did not improve from 0.16521\n",
      "121/121 [==============================] - 1s 9ms/step - loss: 0.2176 - acc: 0.9204 - val_loss: 0.2303 - val_acc: 0.9206 - lr: 0.0010\n",
      "Epoch 23/200\n",
      "115/121 [===========================>..] - ETA: 0s - loss: 0.2977 - acc: 0.8962\n",
      "Epoch 00023: val_loss improved from 0.16521 to 0.15977, saving model to models\\model.h5\n",
      "121/121 [==============================] - 1s 9ms/step - loss: 0.2921 - acc: 0.8980 - val_loss: 0.1598 - val_acc: 0.9416 - lr: 0.0010\n",
      "Epoch 24/200\n",
      "118/121 [============================>.] - ETA: 0s - loss: 0.1419 - acc: 0.9552\n",
      "Epoch 00024: val_loss improved from 0.15977 to 0.13205, saving model to models\\model.h5\n",
      "121/121 [==============================] - 1s 9ms/step - loss: 0.1435 - acc: 0.9547 - val_loss: 0.1320 - val_acc: 0.9486 - lr: 0.0010\n",
      "Epoch 25/200\n",
      "119/121 [============================>.] - ETA: 0s - loss: 0.1415 - acc: 0.9496\n",
      "Epoch 00025: val_loss improved from 0.13205 to 0.11529, saving model to models\\model.h5\n",
      "121/121 [==============================] - 1s 9ms/step - loss: 0.1406 - acc: 0.9501 - val_loss: 0.1153 - val_acc: 0.9650 - lr: 0.0010\n",
      "Epoch 26/200\n",
      "117/121 [============================>.] - ETA: 0s - loss: 0.1914 - acc: 0.9306\n",
      "Epoch 00026: val_loss did not improve from 0.11529\n",
      "121/121 [==============================] - 1s 9ms/step - loss: 0.1923 - acc: 0.9303 - val_loss: 0.2059 - val_acc: 0.9159 - lr: 0.0010\n",
      "Epoch 27/200\n",
      "120/121 [============================>.] - ETA: 0s - loss: 0.1190 - acc: 0.9596\n",
      "Epoch 00027: val_loss improved from 0.11529 to 0.09174, saving model to models\\model.h5\n",
      "121/121 [==============================] - 1s 9ms/step - loss: 0.1189 - acc: 0.9597 - val_loss: 0.0917 - val_acc: 0.9650 - lr: 0.0010\n",
      "Epoch 28/200\n",
      "118/121 [============================>.] - ETA: 0s - loss: 0.0995 - acc: 0.9685\n",
      "Epoch 00028: val_loss did not improve from 0.09174\n",
      "121/121 [==============================] - 1s 9ms/step - loss: 0.1004 - acc: 0.9680 - val_loss: 0.2099 - val_acc: 0.9299 - lr: 0.0010\n",
      "Epoch 29/200\n",
      "117/121 [============================>.] - ETA: 0s - loss: 0.1454 - acc: 0.9527\n",
      "Epoch 00029: val_loss did not improve from 0.09174\n",
      "121/121 [==============================] - 1s 9ms/step - loss: 0.1469 - acc: 0.9521 - val_loss: 0.2175 - val_acc: 0.9182 - lr: 0.0010\n",
      "Epoch 30/200\n",
      "118/121 [============================>.] - ETA: 0s - loss: 0.1250 - acc: 0.9584\n",
      "Epoch 00030: val_loss did not improve from 0.09174\n",
      "121/121 [==============================] - 1s 9ms/step - loss: 0.1243 - acc: 0.9586 - val_loss: 0.1163 - val_acc: 0.9603 - lr: 0.0010\n",
      "Epoch 31/200\n",
      "120/121 [============================>.] - ETA: 0s - loss: 0.1227 - acc: 0.9555\n",
      "Epoch 00031: val_loss did not improve from 0.09174\n",
      "121/121 [==============================] - 1s 9ms/step - loss: 0.1227 - acc: 0.9555 - val_loss: 0.1404 - val_acc: 0.9393 - lr: 0.0010\n",
      "Epoch 32/200\n",
      "118/121 [============================>.] - ETA: 0s - loss: 0.0974 - acc: 0.9693\n",
      "Epoch 00032: val_loss improved from 0.09174 to 0.07719, saving model to models\\model.h5\n",
      "121/121 [==============================] - 1s 9ms/step - loss: 0.0970 - acc: 0.9693 - val_loss: 0.0772 - val_acc: 0.9673 - lr: 0.0010\n",
      "Epoch 33/200\n",
      "116/121 [===========================>..] - ETA: 0s - loss: 0.0778 - acc: 0.9714\n",
      "Epoch 00033: val_loss did not improve from 0.07719\n",
      "121/121 [==============================] - 1s 9ms/step - loss: 0.0785 - acc: 0.9717 - val_loss: 0.1059 - val_acc: 0.9603 - lr: 0.0010\n",
      "Epoch 34/200\n",
      " 27/121 [=====>........................] - ETA: 0s - loss: 0.0806 - acc: 0.9780"
     ]
    },
    {
     "ename": "KeyboardInterrupt",
     "evalue": "",
     "output_type": "error",
     "traceback": [
      "\u001b[1;31m---------------------------------------------------------------------------\u001b[0m",
      "\u001b[1;31mKeyboardInterrupt\u001b[0m                         Traceback (most recent call last)",
      "Cell \u001b[1;32mIn[12], line 4\u001b[0m\n\u001b[0;32m      1\u001b[0m model\u001b[38;5;241m.\u001b[39mcompile(optimizer\u001b[38;5;241m=\u001b[39m\u001b[38;5;124m'\u001b[39m\u001b[38;5;124madam\u001b[39m\u001b[38;5;124m'\u001b[39m, loss\u001b[38;5;241m=\u001b[39m\u001b[38;5;124m'\u001b[39m\u001b[38;5;124mcategorical_crossentropy\u001b[39m\u001b[38;5;124m'\u001b[39m, metrics\u001b[38;5;241m=\u001b[39m[\u001b[38;5;124m'\u001b[39m\u001b[38;5;124macc\u001b[39m\u001b[38;5;124m'\u001b[39m])\n\u001b[0;32m      2\u001b[0m model\u001b[38;5;241m.\u001b[39msummary()\n\u001b[1;32m----> 4\u001b[0m history \u001b[38;5;241m=\u001b[39m \u001b[43mmodel\u001b[49m\u001b[38;5;241;43m.\u001b[39;49m\u001b[43mfit\u001b[49m\u001b[43m(\u001b[49m\n\u001b[0;32m      5\u001b[0m \u001b[43m    \u001b[49m\u001b[43mdata\u001b[49m\u001b[43m,\u001b[49m\n\u001b[0;32m      6\u001b[0m \u001b[43m    \u001b[49m\u001b[43mnew_label\u001b[49m\u001b[43m,\u001b[49m\n\u001b[0;32m      7\u001b[0m \u001b[43m    \u001b[49m\u001b[43mvalidation_data\u001b[49m\u001b[38;5;241;43m=\u001b[39;49m\u001b[43m(\u001b[49m\u001b[43mdata_val\u001b[49m\u001b[43m,\u001b[49m\u001b[43m \u001b[49m\u001b[43mnew_label_val\u001b[49m\u001b[43m)\u001b[49m\u001b[43m,\u001b[49m\n\u001b[0;32m      8\u001b[0m \u001b[43m    \u001b[49m\u001b[43mepochs\u001b[49m\u001b[38;5;241;43m=\u001b[39;49m\u001b[38;5;241;43m200\u001b[39;49m\u001b[43m,\u001b[49m\n\u001b[0;32m      9\u001b[0m \u001b[43m    \u001b[49m\u001b[43mcallbacks\u001b[49m\u001b[38;5;241;43m=\u001b[39;49m\u001b[43m[\u001b[49m\n\u001b[0;32m     10\u001b[0m \u001b[43m        \u001b[49m\u001b[43mModelCheckpoint\u001b[49m\u001b[43m(\u001b[49m\u001b[38;5;124;43m'\u001b[39;49m\u001b[38;5;124;43mmodels/model.h5\u001b[39;49m\u001b[38;5;124;43m'\u001b[39;49m\u001b[43m,\u001b[49m\u001b[43m \u001b[49m\u001b[43mmonitor\u001b[49m\u001b[38;5;241;43m=\u001b[39;49m\u001b[38;5;124;43m'\u001b[39;49m\u001b[38;5;124;43mval_loss\u001b[39;49m\u001b[38;5;124;43m'\u001b[39;49m\u001b[43m,\u001b[49m\u001b[43m \u001b[49m\u001b[43mverbose\u001b[49m\u001b[38;5;241;43m=\u001b[39;49m\u001b[38;5;241;43m1\u001b[39;49m\u001b[43m,\u001b[49m\u001b[43m \u001b[49m\u001b[43msave_best_only\u001b[49m\u001b[38;5;241;43m=\u001b[39;49m\u001b[38;5;28;43;01mTrue\u001b[39;49;00m\u001b[43m,\u001b[49m\u001b[43m \u001b[49m\u001b[43mmode\u001b[49m\u001b[38;5;241;43m=\u001b[39;49m\u001b[38;5;124;43m'\u001b[39;49m\u001b[38;5;124;43mauto\u001b[39;49m\u001b[38;5;124;43m'\u001b[39;49m\u001b[43m)\u001b[49m\u001b[43m,\u001b[49m\n\u001b[0;32m     11\u001b[0m \u001b[43m        \u001b[49m\u001b[43mReduceLROnPlateau\u001b[49m\u001b[43m(\u001b[49m\u001b[43mmonitor\u001b[49m\u001b[38;5;241;43m=\u001b[39;49m\u001b[38;5;124;43m'\u001b[39;49m\u001b[38;5;124;43mval_acc\u001b[39;49m\u001b[38;5;124;43m'\u001b[39;49m\u001b[43m,\u001b[49m\u001b[43m \u001b[49m\u001b[43mfactor\u001b[49m\u001b[38;5;241;43m=\u001b[39;49m\u001b[38;5;241;43m0.5\u001b[39;49m\u001b[43m,\u001b[49m\u001b[43m \u001b[49m\u001b[43mpatience\u001b[49m\u001b[38;5;241;43m=\u001b[39;49m\u001b[38;5;241;43m50\u001b[39;49m\u001b[43m,\u001b[49m\u001b[43m \u001b[49m\u001b[43mverbose\u001b[49m\u001b[38;5;241;43m=\u001b[39;49m\u001b[38;5;241;43m1\u001b[39;49m\u001b[43m,\u001b[49m\u001b[43m \u001b[49m\u001b[43mmode\u001b[49m\u001b[38;5;241;43m=\u001b[39;49m\u001b[38;5;124;43m'\u001b[39;49m\u001b[38;5;124;43mauto\u001b[39;49m\u001b[38;5;124;43m'\u001b[39;49m\u001b[43m)\u001b[49m\n\u001b[0;32m     12\u001b[0m \u001b[43m    \u001b[49m\u001b[43m]\u001b[49m\n\u001b[0;32m     13\u001b[0m \u001b[43m)\u001b[49m\n",
      "File \u001b[1;32mc:\\Users\\82104\\.conda\\envs\\project\\lib\\site-packages\\keras\\utils\\traceback_utils.py:64\u001b[0m, in \u001b[0;36mfilter_traceback.<locals>.error_handler\u001b[1;34m(*args, **kwargs)\u001b[0m\n\u001b[0;32m     62\u001b[0m filtered_tb \u001b[38;5;241m=\u001b[39m \u001b[38;5;28;01mNone\u001b[39;00m\n\u001b[0;32m     63\u001b[0m \u001b[38;5;28;01mtry\u001b[39;00m:\n\u001b[1;32m---> 64\u001b[0m   \u001b[38;5;28;01mreturn\u001b[39;00m fn(\u001b[38;5;241m*\u001b[39margs, \u001b[38;5;241m*\u001b[39m\u001b[38;5;241m*\u001b[39mkwargs)\n\u001b[0;32m     65\u001b[0m \u001b[38;5;28;01mexcept\u001b[39;00m \u001b[38;5;167;01mException\u001b[39;00m \u001b[38;5;28;01mas\u001b[39;00m e:  \u001b[38;5;66;03m# pylint: disable=broad-except\u001b[39;00m\n\u001b[0;32m     66\u001b[0m   filtered_tb \u001b[38;5;241m=\u001b[39m _process_traceback_frames(e\u001b[38;5;241m.\u001b[39m__traceback__)\n",
      "File \u001b[1;32mc:\\Users\\82104\\.conda\\envs\\project\\lib\\site-packages\\keras\\engine\\training.py:1216\u001b[0m, in \u001b[0;36mModel.fit\u001b[1;34m(self, x, y, batch_size, epochs, verbose, callbacks, validation_split, validation_data, shuffle, class_weight, sample_weight, initial_epoch, steps_per_epoch, validation_steps, validation_batch_size, validation_freq, max_queue_size, workers, use_multiprocessing)\u001b[0m\n\u001b[0;32m   1209\u001b[0m \u001b[38;5;28;01mwith\u001b[39;00m tf\u001b[38;5;241m.\u001b[39mprofiler\u001b[38;5;241m.\u001b[39mexperimental\u001b[38;5;241m.\u001b[39mTrace(\n\u001b[0;32m   1210\u001b[0m     \u001b[38;5;124m'\u001b[39m\u001b[38;5;124mtrain\u001b[39m\u001b[38;5;124m'\u001b[39m,\n\u001b[0;32m   1211\u001b[0m     epoch_num\u001b[38;5;241m=\u001b[39mepoch,\n\u001b[0;32m   1212\u001b[0m     step_num\u001b[38;5;241m=\u001b[39mstep,\n\u001b[0;32m   1213\u001b[0m     batch_size\u001b[38;5;241m=\u001b[39mbatch_size,\n\u001b[0;32m   1214\u001b[0m     _r\u001b[38;5;241m=\u001b[39m\u001b[38;5;241m1\u001b[39m):\n\u001b[0;32m   1215\u001b[0m   callbacks\u001b[38;5;241m.\u001b[39mon_train_batch_begin(step)\n\u001b[1;32m-> 1216\u001b[0m   tmp_logs \u001b[38;5;241m=\u001b[39m \u001b[38;5;28;43mself\u001b[39;49m\u001b[38;5;241;43m.\u001b[39;49m\u001b[43mtrain_function\u001b[49m\u001b[43m(\u001b[49m\u001b[43miterator\u001b[49m\u001b[43m)\u001b[49m\n\u001b[0;32m   1217\u001b[0m   \u001b[38;5;28;01mif\u001b[39;00m data_handler\u001b[38;5;241m.\u001b[39mshould_sync:\n\u001b[0;32m   1218\u001b[0m     context\u001b[38;5;241m.\u001b[39masync_wait()\n",
      "File \u001b[1;32m~\\AppData\\Roaming\\Python\\Python39\\site-packages\\tensorflow\\python\\util\\traceback_utils.py:150\u001b[0m, in \u001b[0;36mfilter_traceback.<locals>.error_handler\u001b[1;34m(*args, **kwargs)\u001b[0m\n\u001b[0;32m    148\u001b[0m filtered_tb \u001b[38;5;241m=\u001b[39m \u001b[38;5;28;01mNone\u001b[39;00m\n\u001b[0;32m    149\u001b[0m \u001b[38;5;28;01mtry\u001b[39;00m:\n\u001b[1;32m--> 150\u001b[0m   \u001b[38;5;28;01mreturn\u001b[39;00m fn(\u001b[38;5;241m*\u001b[39margs, \u001b[38;5;241m*\u001b[39m\u001b[38;5;241m*\u001b[39mkwargs)\n\u001b[0;32m    151\u001b[0m \u001b[38;5;28;01mexcept\u001b[39;00m \u001b[38;5;167;01mException\u001b[39;00m \u001b[38;5;28;01mas\u001b[39;00m e:\n\u001b[0;32m    152\u001b[0m   filtered_tb \u001b[38;5;241m=\u001b[39m _process_traceback_frames(e\u001b[38;5;241m.\u001b[39m__traceback__)\n",
      "File \u001b[1;32m~\\AppData\\Roaming\\Python\\Python39\\site-packages\\tensorflow\\python\\eager\\def_function.py:910\u001b[0m, in \u001b[0;36mFunction.__call__\u001b[1;34m(self, *args, **kwds)\u001b[0m\n\u001b[0;32m    907\u001b[0m compiler \u001b[38;5;241m=\u001b[39m \u001b[38;5;124m\"\u001b[39m\u001b[38;5;124mxla\u001b[39m\u001b[38;5;124m\"\u001b[39m \u001b[38;5;28;01mif\u001b[39;00m \u001b[38;5;28mself\u001b[39m\u001b[38;5;241m.\u001b[39m_jit_compile \u001b[38;5;28;01melse\u001b[39;00m \u001b[38;5;124m\"\u001b[39m\u001b[38;5;124mnonXla\u001b[39m\u001b[38;5;124m\"\u001b[39m\n\u001b[0;32m    909\u001b[0m \u001b[38;5;28;01mwith\u001b[39;00m OptionalXlaContext(\u001b[38;5;28mself\u001b[39m\u001b[38;5;241m.\u001b[39m_jit_compile):\n\u001b[1;32m--> 910\u001b[0m   result \u001b[38;5;241m=\u001b[39m \u001b[38;5;28mself\u001b[39m\u001b[38;5;241m.\u001b[39m_call(\u001b[38;5;241m*\u001b[39margs, \u001b[38;5;241m*\u001b[39m\u001b[38;5;241m*\u001b[39mkwds)\n\u001b[0;32m    912\u001b[0m new_tracing_count \u001b[38;5;241m=\u001b[39m \u001b[38;5;28mself\u001b[39m\u001b[38;5;241m.\u001b[39mexperimental_get_tracing_count()\n\u001b[0;32m    913\u001b[0m without_tracing \u001b[38;5;241m=\u001b[39m (tracing_count \u001b[38;5;241m==\u001b[39m new_tracing_count)\n",
      "File \u001b[1;32m~\\AppData\\Roaming\\Python\\Python39\\site-packages\\tensorflow\\python\\eager\\def_function.py:942\u001b[0m, in \u001b[0;36mFunction._call\u001b[1;34m(self, *args, **kwds)\u001b[0m\n\u001b[0;32m    939\u001b[0m   \u001b[38;5;28mself\u001b[39m\u001b[38;5;241m.\u001b[39m_lock\u001b[38;5;241m.\u001b[39mrelease()\n\u001b[0;32m    940\u001b[0m   \u001b[38;5;66;03m# In this case we have created variables on the first call, so we run the\u001b[39;00m\n\u001b[0;32m    941\u001b[0m   \u001b[38;5;66;03m# defunned version which is guaranteed to never create variables.\u001b[39;00m\n\u001b[1;32m--> 942\u001b[0m   \u001b[38;5;28;01mreturn\u001b[39;00m \u001b[38;5;28mself\u001b[39m\u001b[38;5;241m.\u001b[39m_stateless_fn(\u001b[38;5;241m*\u001b[39margs, \u001b[38;5;241m*\u001b[39m\u001b[38;5;241m*\u001b[39mkwds)  \u001b[38;5;66;03m# pylint: disable=not-callable\u001b[39;00m\n\u001b[0;32m    943\u001b[0m \u001b[38;5;28;01melif\u001b[39;00m \u001b[38;5;28mself\u001b[39m\u001b[38;5;241m.\u001b[39m_stateful_fn \u001b[38;5;129;01mis\u001b[39;00m \u001b[38;5;129;01mnot\u001b[39;00m \u001b[38;5;28;01mNone\u001b[39;00m:\n\u001b[0;32m    944\u001b[0m   \u001b[38;5;66;03m# Release the lock early so that multiple threads can perform the call\u001b[39;00m\n\u001b[0;32m    945\u001b[0m   \u001b[38;5;66;03m# in parallel.\u001b[39;00m\n\u001b[0;32m    946\u001b[0m   \u001b[38;5;28mself\u001b[39m\u001b[38;5;241m.\u001b[39m_lock\u001b[38;5;241m.\u001b[39mrelease()\n",
      "File \u001b[1;32m~\\AppData\\Roaming\\Python\\Python39\\site-packages\\tensorflow\\python\\eager\\function.py:3130\u001b[0m, in \u001b[0;36mFunction.__call__\u001b[1;34m(self, *args, **kwargs)\u001b[0m\n\u001b[0;32m   3127\u001b[0m \u001b[38;5;28;01mwith\u001b[39;00m \u001b[38;5;28mself\u001b[39m\u001b[38;5;241m.\u001b[39m_lock:\n\u001b[0;32m   3128\u001b[0m   (graph_function,\n\u001b[0;32m   3129\u001b[0m    filtered_flat_args) \u001b[38;5;241m=\u001b[39m \u001b[38;5;28mself\u001b[39m\u001b[38;5;241m.\u001b[39m_maybe_define_function(args, kwargs)\n\u001b[1;32m-> 3130\u001b[0m \u001b[38;5;28;01mreturn\u001b[39;00m \u001b[43mgraph_function\u001b[49m\u001b[38;5;241;43m.\u001b[39;49m\u001b[43m_call_flat\u001b[49m\u001b[43m(\u001b[49m\n\u001b[0;32m   3131\u001b[0m \u001b[43m    \u001b[49m\u001b[43mfiltered_flat_args\u001b[49m\u001b[43m,\u001b[49m\u001b[43m \u001b[49m\u001b[43mcaptured_inputs\u001b[49m\u001b[38;5;241;43m=\u001b[39;49m\u001b[43mgraph_function\u001b[49m\u001b[38;5;241;43m.\u001b[39;49m\u001b[43mcaptured_inputs\u001b[49m\u001b[43m)\u001b[49m\n",
      "File \u001b[1;32m~\\AppData\\Roaming\\Python\\Python39\\site-packages\\tensorflow\\python\\eager\\function.py:1959\u001b[0m, in \u001b[0;36mConcreteFunction._call_flat\u001b[1;34m(self, args, captured_inputs, cancellation_manager)\u001b[0m\n\u001b[0;32m   1955\u001b[0m possible_gradient_type \u001b[38;5;241m=\u001b[39m gradients_util\u001b[38;5;241m.\u001b[39mPossibleTapeGradientTypes(args)\n\u001b[0;32m   1956\u001b[0m \u001b[38;5;28;01mif\u001b[39;00m (possible_gradient_type \u001b[38;5;241m==\u001b[39m gradients_util\u001b[38;5;241m.\u001b[39mPOSSIBLE_GRADIENT_TYPES_NONE\n\u001b[0;32m   1957\u001b[0m     \u001b[38;5;129;01mand\u001b[39;00m executing_eagerly):\n\u001b[0;32m   1958\u001b[0m   \u001b[38;5;66;03m# No tape is watching; skip to running the function.\u001b[39;00m\n\u001b[1;32m-> 1959\u001b[0m   \u001b[38;5;28;01mreturn\u001b[39;00m \u001b[38;5;28mself\u001b[39m\u001b[38;5;241m.\u001b[39m_build_call_outputs(\u001b[38;5;28;43mself\u001b[39;49m\u001b[38;5;241;43m.\u001b[39;49m\u001b[43m_inference_function\u001b[49m\u001b[38;5;241;43m.\u001b[39;49m\u001b[43mcall\u001b[49m\u001b[43m(\u001b[49m\n\u001b[0;32m   1960\u001b[0m \u001b[43m      \u001b[49m\u001b[43mctx\u001b[49m\u001b[43m,\u001b[49m\u001b[43m \u001b[49m\u001b[43margs\u001b[49m\u001b[43m,\u001b[49m\u001b[43m \u001b[49m\u001b[43mcancellation_manager\u001b[49m\u001b[38;5;241;43m=\u001b[39;49m\u001b[43mcancellation_manager\u001b[49m\u001b[43m)\u001b[49m)\n\u001b[0;32m   1961\u001b[0m forward_backward \u001b[38;5;241m=\u001b[39m \u001b[38;5;28mself\u001b[39m\u001b[38;5;241m.\u001b[39m_select_forward_and_backward_functions(\n\u001b[0;32m   1962\u001b[0m     args,\n\u001b[0;32m   1963\u001b[0m     possible_gradient_type,\n\u001b[0;32m   1964\u001b[0m     executing_eagerly)\n\u001b[0;32m   1965\u001b[0m forward_function, args_with_tangents \u001b[38;5;241m=\u001b[39m forward_backward\u001b[38;5;241m.\u001b[39mforward()\n",
      "File \u001b[1;32m~\\AppData\\Roaming\\Python\\Python39\\site-packages\\tensorflow\\python\\eager\\function.py:598\u001b[0m, in \u001b[0;36m_EagerDefinedFunction.call\u001b[1;34m(self, ctx, args, cancellation_manager)\u001b[0m\n\u001b[0;32m    596\u001b[0m \u001b[38;5;28;01mwith\u001b[39;00m _InterpolateFunctionError(\u001b[38;5;28mself\u001b[39m):\n\u001b[0;32m    597\u001b[0m   \u001b[38;5;28;01mif\u001b[39;00m cancellation_manager \u001b[38;5;129;01mis\u001b[39;00m \u001b[38;5;28;01mNone\u001b[39;00m:\n\u001b[1;32m--> 598\u001b[0m     outputs \u001b[38;5;241m=\u001b[39m \u001b[43mexecute\u001b[49m\u001b[38;5;241;43m.\u001b[39;49m\u001b[43mexecute\u001b[49m\u001b[43m(\u001b[49m\n\u001b[0;32m    599\u001b[0m \u001b[43m        \u001b[49m\u001b[38;5;28;43mstr\u001b[39;49m\u001b[43m(\u001b[49m\u001b[38;5;28;43mself\u001b[39;49m\u001b[38;5;241;43m.\u001b[39;49m\u001b[43msignature\u001b[49m\u001b[38;5;241;43m.\u001b[39;49m\u001b[43mname\u001b[49m\u001b[43m)\u001b[49m\u001b[43m,\u001b[49m\n\u001b[0;32m    600\u001b[0m \u001b[43m        \u001b[49m\u001b[43mnum_outputs\u001b[49m\u001b[38;5;241;43m=\u001b[39;49m\u001b[38;5;28;43mself\u001b[39;49m\u001b[38;5;241;43m.\u001b[39;49m\u001b[43m_num_outputs\u001b[49m\u001b[43m,\u001b[49m\n\u001b[0;32m    601\u001b[0m \u001b[43m        \u001b[49m\u001b[43minputs\u001b[49m\u001b[38;5;241;43m=\u001b[39;49m\u001b[43margs\u001b[49m\u001b[43m,\u001b[49m\n\u001b[0;32m    602\u001b[0m \u001b[43m        \u001b[49m\u001b[43mattrs\u001b[49m\u001b[38;5;241;43m=\u001b[39;49m\u001b[43mattrs\u001b[49m\u001b[43m,\u001b[49m\n\u001b[0;32m    603\u001b[0m \u001b[43m        \u001b[49m\u001b[43mctx\u001b[49m\u001b[38;5;241;43m=\u001b[39;49m\u001b[43mctx\u001b[49m\u001b[43m)\u001b[49m\n\u001b[0;32m    604\u001b[0m   \u001b[38;5;28;01melse\u001b[39;00m:\n\u001b[0;32m    605\u001b[0m     outputs \u001b[38;5;241m=\u001b[39m execute\u001b[38;5;241m.\u001b[39mexecute_with_cancellation(\n\u001b[0;32m    606\u001b[0m         \u001b[38;5;28mstr\u001b[39m(\u001b[38;5;28mself\u001b[39m\u001b[38;5;241m.\u001b[39msignature\u001b[38;5;241m.\u001b[39mname),\n\u001b[0;32m    607\u001b[0m         num_outputs\u001b[38;5;241m=\u001b[39m\u001b[38;5;28mself\u001b[39m\u001b[38;5;241m.\u001b[39m_num_outputs,\n\u001b[1;32m   (...)\u001b[0m\n\u001b[0;32m    610\u001b[0m         ctx\u001b[38;5;241m=\u001b[39mctx,\n\u001b[0;32m    611\u001b[0m         cancellation_manager\u001b[38;5;241m=\u001b[39mcancellation_manager)\n",
      "File \u001b[1;32m~\\AppData\\Roaming\\Python\\Python39\\site-packages\\tensorflow\\python\\eager\\execute.py:58\u001b[0m, in \u001b[0;36mquick_execute\u001b[1;34m(op_name, num_outputs, inputs, attrs, ctx, name)\u001b[0m\n\u001b[0;32m     56\u001b[0m \u001b[38;5;28;01mtry\u001b[39;00m:\n\u001b[0;32m     57\u001b[0m   ctx\u001b[38;5;241m.\u001b[39mensure_initialized()\n\u001b[1;32m---> 58\u001b[0m   tensors \u001b[38;5;241m=\u001b[39m \u001b[43mpywrap_tfe\u001b[49m\u001b[38;5;241;43m.\u001b[39;49m\u001b[43mTFE_Py_Execute\u001b[49m\u001b[43m(\u001b[49m\u001b[43mctx\u001b[49m\u001b[38;5;241;43m.\u001b[39;49m\u001b[43m_handle\u001b[49m\u001b[43m,\u001b[49m\u001b[43m \u001b[49m\u001b[43mdevice_name\u001b[49m\u001b[43m,\u001b[49m\u001b[43m \u001b[49m\u001b[43mop_name\u001b[49m\u001b[43m,\u001b[49m\n\u001b[0;32m     59\u001b[0m \u001b[43m                                      \u001b[49m\u001b[43minputs\u001b[49m\u001b[43m,\u001b[49m\u001b[43m \u001b[49m\u001b[43mattrs\u001b[49m\u001b[43m,\u001b[49m\u001b[43m \u001b[49m\u001b[43mnum_outputs\u001b[49m\u001b[43m)\u001b[49m\n\u001b[0;32m     60\u001b[0m \u001b[38;5;28;01mexcept\u001b[39;00m core\u001b[38;5;241m.\u001b[39m_NotOkStatusException \u001b[38;5;28;01mas\u001b[39;00m e:\n\u001b[0;32m     61\u001b[0m   \u001b[38;5;28;01mif\u001b[39;00m name \u001b[38;5;129;01mis\u001b[39;00m \u001b[38;5;129;01mnot\u001b[39;00m \u001b[38;5;28;01mNone\u001b[39;00m:\n",
      "\u001b[1;31mKeyboardInterrupt\u001b[0m: "
     ]
    }
   ],
   "source": [
    "model.compile(optimizer='adam', loss='categorical_crossentropy', metrics=['acc'])\n",
    "model.summary()\n",
    "\n",
    "history = model.fit(\n",
    "    data,\n",
    "    new_label,\n",
    "    validation_data=(data_val, new_label_val),\n",
    "    epochs=200,\n",
    "    callbacks=[\n",
    "        ModelCheckpoint('models/model.h5', monitor='val_loss', verbose=1, save_best_only=True, mode='auto'),\n",
    "        ReduceLROnPlateau(monitor='val_acc', factor=0.5, patience=50, verbose=1, mode='auto')\n",
    "    ]\n",
    ")"
   ]
  },
  {
   "cell_type": "code",
   "execution_count": null,
   "metadata": {},
   "outputs": [
    {
     "name": "stdout",
     "output_type": "stream",
     "text": [
      "[[[2.34280462 0.99336296]\n",
      "  [2.35148942 1.00487332]\n",
      "  [2.36223517 1.02461043]\n",
      "  ...\n",
      "  [2.61753424 1.12413722]\n",
      "  [2.61175946 1.14521744]\n",
      "  [2.61329806 1.1692245 ]]\n",
      "\n",
      " [[1.67814345 1.67316467]\n",
      "  [1.67806493 1.67458738]\n",
      "  [1.6746825  1.664584  ]\n",
      "  ...\n",
      "  [1.80432268 1.91792174]\n",
      "  [1.78869817 1.90243546]\n",
      "  [1.77670239 1.87523454]]\n",
      "\n",
      " [[1.66848439 1.71859634]\n",
      "  [1.66915956 1.72766848]\n",
      "  [1.66460696 1.72441458]\n",
      "  ...\n",
      "  [1.66077726 1.87981634]\n",
      "  [1.64231411 1.85948218]\n",
      "  [1.63838526 1.83612479]]\n",
      "\n",
      " ...\n",
      "\n",
      " [[1.55473392 1.74088812]\n",
      "  [1.58594899 1.74298683]\n",
      "  [1.61960014 1.75409338]\n",
      "  ...\n",
      "  [1.61215124 1.86210927]\n",
      "  [1.61070393 1.82202032]\n",
      "  [1.60707588 1.78907229]]\n",
      "\n",
      " [[2.05266997 2.05920685]\n",
      "  [2.04598881 2.03160882]\n",
      "  [2.03967937 2.00840933]\n",
      "  ...\n",
      "  [1.70166318 1.81814801]\n",
      "  [1.69831697 1.79759335]\n",
      "  [1.69601478 1.7735345 ]]\n",
      "\n",
      " [[0.87502418 1.86370998]\n",
      "  [0.87837326 1.86075243]\n",
      "  [0.89552518 1.83919395]\n",
      "  ...\n",
      "  [0.68217199 1.16164305]\n",
      "  [0.59284167 1.17002612]\n",
      "  [0.50406139 1.20630728]]]\n"
     ]
    }
   ],
   "source": [
    "print(data)"
   ]
  },
  {
   "cell_type": "code",
   "execution_count": null,
   "metadata": {},
   "outputs": [],
   "source": [
    "from tensorflow.keras.models import load_model\n",
    "\n",
    "model = load_model(\"./models/model.h5\")"
   ]
  },
  {
   "cell_type": "code",
   "execution_count": null,
   "metadata": {},
   "outputs": [
    {
     "data": {
      "image/png": "[encoded data removed]",
      "text/plain": [
       "<Figure size 640x480 with 1 Axes>"
      ]
     },
     "metadata": {},
     "output_type": "display_data"
    }
   ],
   "source": [
    "from matplotlib import pyplot as plt\n",
    "\n",
    "y_vloss = history.history['val_loss']\n",
    "y_loss = history.history['loss']\n",
    "\n",
    "x_len = np.arange(len(y_loss))\n",
    "plt.plot(x_len, y_vloss, marker='.', c='red', label=\"Validation-set Loss\")\n",
    "plt.plot(x_len, y_loss, marker='.', c='blue', label=\"Train-set Loss\")\n",
    "\n",
    "plt.legend(loc='upper right')\n",
    "plt.grid()\n",
    "plt.xlabel('epoch')\n",
    "plt.ylabel('loss')\n",
    "plt.show()"
   ]
  },
  {
   "cell_type": "code",
   "execution_count": null,
   "metadata": {},
   "outputs": [],
   "source": [
    "data_test = []\n",
    "label_test = []\n",
    "\n",
    "for idx, action in enumerate(actions):\n",
    "\n",
    "    action_dir = testset_dir + '/' + actions[idx]\n",
    "\n",
    "    for i in os.listdir(action_dir):\n",
    "        dataset_test = pd.read_csv(f\"{action_dir}/{i}\")\n",
    "        np_dataset_test = dataset_test.to_numpy()[:,0:2]\n",
    "        data_len_test = np_dataset_test.shape[0]\n",
    "\n",
    "\n",
    "        num_data_test = data_len_test // seq_length\n",
    "        spare_test = data_len_test % seq_length\n",
    "        np_dataset_test = np_dataset_test[:(data_len_test-spare_test)]\n",
    "\n",
    "\n",
    "        for j in range(num_data_test):\n",
    "            sequence_test = np_dataset_test[j::num_data_test]\n",
    "            # print(sequence.shape)\n",
    "            data_test.append(sequence_test)\n",
    "            label_test.append(action)\n",
    "        # print(data_len, num_data, spare)\n",
    "\n",
    "action_list = set(label)\n",
    "data_test = np.array(data_test)"
   ]
  },
  {
   "cell_type": "code",
   "execution_count": null,
   "metadata": {},
   "outputs": [
    {
     "data": {
      "text/plain": [
       "array([8, 8, 8, ..., 6, 6, 6])"
      ]
     },
     "execution_count": 17,
     "metadata": {},
     "output_type": "execute_result"
    }
   ],
   "source": [
    "new_label_test = []\n",
    "for l in label_test:\n",
    "    new_label_test.append(dictionary[l])\n",
    "\n",
    "new_label_test = np.array(new_label_test)\n",
    "new_label_test"
   ]
  },
  {
   "cell_type": "code",
   "execution_count": null,
   "metadata": {},
   "outputs": [
    {
     "name": "stdout",
     "output_type": "stream",
     "text": [
      "(1532, 32, 2)\n"
     ]
    }
   ],
   "source": [
    "print(data_test.shape)"
   ]
  },
  {
   "cell_type": "code",
   "execution_count": null,
   "metadata": {},
   "outputs": [
    {
     "data": {
      "text/plain": [
       "(1532,)"
      ]
     },
     "execution_count": 19,
     "metadata": {},
     "output_type": "execute_result"
    }
   ],
   "source": [
    "from sklearn.metrics import classification_report\n",
    "\n",
    "predict = model.predict(data_test)\n",
    "predict = np.argmax(predict, axis=1)\n",
    "predict.shape"
   ]
  },
  {
   "cell_type": "code",
   "execution_count": null,
   "metadata": {},
   "outputs": [],
   "source": [
    "\n",
    "# np.set_printoptions(threshold=np.inf, linewidth=np.inf) "
   ]
  },
  {
   "cell_type": "code",
   "execution_count": null,
   "metadata": {},
   "outputs": [
    {
     "data": {
      "text/plain": [
       "array([8, 8, 8, ..., 6, 6, 6], dtype=int64)"
      ]
     },
     "execution_count": 21,
     "metadata": {},
     "output_type": "execute_result"
    }
   ],
   "source": [
    "predict"
   ]
  },
  {
   "cell_type": "code",
   "execution_count": null,
   "metadata": {},
   "outputs": [
    {
     "data": {
      "text/plain": [
       "'              precision    recall  f1-score   support\\n\\n          ld       0.83      0.88      0.85       100\\n          rd       0.69      0.85      0.77       109\\n          ms       0.92      0.88      0.90       186\\n          lu       0.89      0.89      0.89        95\\n          os       0.97      0.95      0.96       211\\n         squ       0.93      0.75      0.83       199\\n         ver       0.85      0.88      0.86        40\\n          mc       0.91      0.80      0.85       122\\n         hor       0.65      0.72      0.69        47\\n         tri       0.77      0.91      0.83       165\\n          ru       0.93      0.89      0.91       112\\n          oc       0.91      0.91      0.91       146\\n\\n    accuracy                           0.87      1532\\n   macro avg       0.85      0.86      0.85      1532\\nweighted avg       0.88      0.87      0.87      1532\\n'"
      ]
     },
     "execution_count": 22,
     "metadata": {},
     "output_type": "execute_result"
    }
   ],
   "source": [
    "classification_report(new_label_test, predict, target_names=action_list)"
   ]
  }
 ],
 "metadata": {
  "kernelspec": {
   "display_name": "project",
   "language": "python",
   "name": "python3"
  },
  "language_info": {
   "codemirror_mode": {
    "name": "ipython",
    "version": 3
   },
   "file_extension": ".py",
   "mimetype": "text/x-python",
   "name": "python",
   "nbconvert_exporter": "python",
   "pygments_lexer": "ipython3",
   "version": "3.9.7"
  }
 },
 "nbformat": 4,
 "nbformat_minor": 2
}
